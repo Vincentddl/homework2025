{
 "cells": [
  {
   "cell_type": "markdown",
   "metadata": {},
   "source": [
    "## algorithm design and anlysis-2025 spring  homework 1 \n",
    "**Deadline**：2025.5.14\n",
    "\n",
    "**name**:\n",
    "\n",
    "\n",
    "note：\n",
    "---\n",
    "1. 带有\\*的题目，申请免上课的同学，必须完成，其他同学选作；\n",
    "2. 请独立完成，如求助了他人或者大模型，请著明，并且不可省略算法分析部分；\n",
    "4. 如若作答有雷同，全部取消成绩；\n",
    "3. 需要书面作答的题目，可以通过引用图片的形式添加，但是注意上传项目时包含所引用的图片的源文件；\n",
    "4. $log_n$ 默认表示$log_2{n}$;"
   ]
  },
  {
   "cell_type": "markdown",
   "metadata": {},
   "source": [
    "## 问题 1\n",
    "\n",
    "对于下面的每一对表达式(A, B), A是否能表示为B的 $\\Theta, \\Omega ,O$形式. 请注意, 这些关系中的零个、一个或多个可能成立。列出所有正确的。经常发生一些学生会,把指示写错, 所以请把关系写完整, 例如: $A = O(B),  A =\\Theta(B)$, 或$A = \\Omega(B)$。\n",
    "\n",
    "1. $A=n^2-100n, B=n^2$\n",
    "2. $A=logn, B=log_{1.2}n$\n",
    "3. $A=3^{2n}, B=2^{4n}$\n",
    "4. $A=2^{logn}, B=n$\n",
    "5. $A=\\log{\\log}{n},B=10^{10^{100}}$"
   ]
  },
  {
   "cell_type": "markdown",
   "metadata": {},
   "source": [
    "can refer a handwritten picture, pleas upload the picture in /fig/xxx.png\n",
    "answer:\n"
   ]
  },
  {
   "cell_type": "markdown",
   "metadata": {},
   "source": [
    "![本地图片](hw1-q1.jpg)"
   ]
  },
  {
   "cell_type": "markdown",
   "metadata": {},
   "source": []
  },
  {
   "cell_type": "markdown",
   "metadata": {},
   "source": [
    "## 问题 2：\n",
    "\n",
    "假设有函数 $f$ 和 $g$ 使得 $f(n)$ = $O(g(n))$ 对于下面的每一个陈述, 请判断对错, 如果正确请给出证明, 否则请给出一个反例。\n",
    "\n",
    "1. $\\log{f(n)}$ = $O(\\log(1+g(n)))$\n",
    "2. $3^{f(n)}=O(3^{g(n)})$\n",
    "3. $(f(n))^2=O((g(n))^2)$ "
   ]
  },
  {
   "cell_type": "markdown",
   "metadata": {},
   "source": [
    "you can refer a handwritten picture, pleas upload the picture in /fig/xxx.png\n",
    "answer:"
   ]
  },
  {
   "cell_type": "code",
   "metadata": {
    "ExecuteTime": {
     "end_time": "2025-05-12T07:22:45.647578Z",
     "start_time": "2025-05-12T07:22:45.631895Z"
    }
   },
   "source": "![hw1-q2](hw1-q2.jpg)",
   "outputs": [
    {
     "name": "stderr",
     "output_type": "stream",
     "text": [
      "'[hw1-q2]' 不是内部或外部命令，也不是可运行的程序\n",
      "或批处理文件。\n"
     ]
    }
   ],
   "execution_count": 17
  },
  {
   "cell_type": "markdown",
   "metadata": {},
   "source": [
    "## 问题 3\n",
    "\n",
    "根据下列递归公式, 计算下列 $T(n)$ 对应的的渐近上界。要求所求的边界尽可能的紧（tight）, 请写明步骤。\n",
    "\n",
    "1. $T(1)=1; T(n)=T(n/4)+1$ for $n>1$\n",
    "2. $T(1)=1;T(n)=3T(n/3)+n^2$ for $n>1$\n",
    "3. $T(1)=1;T(n)=T(2n/3)+1$ for $n>1$\n",
    "4. $T(1)=1;T(n)=5T(n/4)+n$ for $n>1$\n",
    "5. $T(n)=1 \\ for\\ n \\le 2 ; T(n)=T(\\sqrt{n})+1 \\ for \\ n>2$"
   ]
  },
  {
   "cell_type": "markdown",
   "metadata": {},
   "source": [
    "can refer a handwritten picture, pleas upload the picture in /fig/xxx.png\n",
    "answer:"
   ]
  },
  {
   "metadata": {
    "ExecuteTime": {
     "end_time": "2025-05-12T07:21:33.856594Z",
     "start_time": "2025-05-12T07:21:33.827811Z"
    }
   },
   "cell_type": "code",
   "source": "![hw1-q2](hw1-q2.jpg)",
   "outputs": [
    {
     "name": "stderr",
     "output_type": "stream",
     "text": [
      "'[hw1-q2]' 不是内部或外部命令，也不是可运行的程序\n",
      "或批处理文件。\n"
     ]
    }
   ],
   "execution_count": 15
  },
  {
   "cell_type": "markdown",
   "metadata": {},
   "source": [
    "## 问题 4：\n",
    "\n",
    "给定一个包含n个元素的数组 `profits` , 它的第 `i` 个元素 `profits[i]` 表示一支股票第 `i` 天的**收益**（正数表示涨, 负数表示跌）。你只能选择 **某一天** 买入这只股票, 并选择在 **未来的某一个不同的日子** 卖出该股票。\n",
    "\n",
    "1. 设计一个算法来计算你所能获取的最大利润和对应买入和卖出的日期。请分析算法方案, 计算其时间复杂度, 并且使用python编程实现该算法。\n",
    "\n",
    "2. \\* 设计一个时间复杂度为 $O(n)$的算法实现该算法\n",
    "\n",
    "e.g. :\n",
    "---\n",
    "profits=[3,2,1,-7,5,2,-1,3,-1], 第5天买入, 第8天卖出, 收益最大：9\n",
    "\n"
   ]
  },
  {
   "cell_type": "markdown",
   "metadata": {},
   "source": [
    "idea:"
   ]
  },
  {
   "cell_type": "code",
   "metadata": {
    "ExecuteTime": {
     "end_time": "2025-05-12T07:09:18.511928Z",
     "start_time": "2025-05-12T07:09:18.504968Z"
    }
   },
   "source": [
    "# 暴力枚举法\n",
    "def max_profit_bruteforce(profits):\n",
    "    n = len(profits)\n",
    "    max_profit = float('-inf')\n",
    "    buy_day = -1\n",
    "    sell_day = -1\n",
    "    \n",
    "    # 计算每天的累积价格\n",
    "    prices = [0]\n",
    "    for p in profits:\n",
    "        prices.append(prices[-1] + p)\n",
    "    \n",
    "    # 尝试所有可能的买入和卖出日组合\n",
    "    for i in range(n):\n",
    "        for j in range(i+1, n):\n",
    "            # 第i天之后买入，第j天之后卖出\n",
    "            current_profit = prices[j+1] - prices[i]\n",
    "            if current_profit > max_profit:\n",
    "                max_profit = current_profit\n",
    "                buy_day = i + 1  # 转换为从1开始的索引\n",
    "                sell_day = j + 1  # 转换为从1开始的索引\n",
    "    \n",
    "    return max_profit, buy_day, sell_day\n",
    "\n",
    "# 测试示例\n",
    "profits = [3, 2, 1, -7, 5, 2, -1, 3, -1]\n",
    "max_p, buy_d, sell_d = max_profit_bruteforce(profits)\n",
    "print(f\"profits={profits}, 第{buy_d}天买入, 第{sell_d}天卖出, 收益最大: {max_p}\")\n",
    "#算法分析：\n",
    "#代码通过暴力枚举所有可能的买入和卖出日期组合来找出最大收益。\n",
    "#虽然简单直观，但由于存在双重嵌套循环，其时间复杂度是 O(n²)，在数据量较大时会显得效率低下。\n",
    "#总时间复杂度：\n",
    "#预处理部分：O(n)\n",
    "#暴力枚举部分：O(n²)\n",
    "#因为 O(n²) 是主导项，故整个算法的时间复杂度为 O(n²)\n"
   ],
   "outputs": [
    {
     "name": "stdout",
     "output_type": "stream",
     "text": [
      "profits=[3, 2, 1, -7, 5, 2, -1, 3, -1], 第5天买入, 第8天卖出, 收益最大: 9\n"
     ]
    }
   ],
   "execution_count": 2
  },
  {
   "cell_type": "markdown",
   "metadata": {},
   "source": [
    "## 问题 5：\n",
    "\n",
    "观察下方的分治算法（divide-and-conquer algorithm）的伪代码, 回答下面问题\n",
    "\n",
    "```latex\n",
    "DoSomething(A,p,r)\n",
    "-----\n",
    "n := r-p+1\n",
    "if n=2 and A[p]>A[r] then\n",
    "    swap A[p] and A[r]\n",
    "else if n >= 3 then\n",
    "    m = ceil(2n/3)\n",
    "    DoSomething(A,p,p+m-1)\n",
    "    DoSomething(A,r-m+1,r)\n",
    "    DoSomething(A,p,p+m-1)  \n",
    "    \n",
    "---\n",
    "first call: DoSomething(A,1,n)\n",
    "```\n",
    "\n",
    "note：$ceil(2n/3)=\\left\\lceil {2n/3} \\right\\rceil$；$:=$ 表示赋值, 等价于 $\\to$；A是一个包含n的整数元素的数组, \n",
    "\n",
    "1. 写出该算法时间复杂度的递归公式, 并求解其对应的渐进表示\n",
    "2. 描述一下该算法的功能, 并判断是否是最高效的解决方案\n",
    "3. 使用python编程实现上述算法或其对应的更高效版本的算法\n"
   ]
  },
  {
   "cell_type": "markdown",
   "metadata": {},
   "source": [
    "idea："
   ]
  },
  {
   "cell_type": "markdown",
   "metadata": {},
   "source": [
    "1.当数组长度≥3时，算法将数组分为三段处理。关键点在于每次递归调用的子问题规模。根据代码，三次递归调用处理的子数组长度均为m = ceil(2n/3)，即约原长度的2/3。每次递归会产生3个子问题，每个子问题规模为2n/3，合并操作的时间为常数。因此递归公式为：T(n)=3T(2n/3)+O(1)\n",
    "#当n≤2时：T(n) = O(1)\n",
    "#当n≥3时：T(n) = 3T(2n/3) + O(1)\n",
    "递归式T(n) = aT(n/b) + f(n)的形式，其中：\n",
    "a = 3（三个子问题）\n",
    "b = 3/2（因为n/(3/2) = 2n/3，表示每个子问题规模是原问题的2/3）\n",
    "f(n) = O(1)\n",
    "其时间复杂度的渐近表示为Θ(n^(log_(3/2)(3)))，\n",
    "\n",
    "2.该算法是一个基于分治策略的排序算法。其核心逻辑为：\n",
    "当数组长度为2时：直接比较并交换相邻元素，确保局部有序。\n",
    "当长度≥3时：递归处理数组的前2/3部分，接着处理后2/3部分，最后再次处理前2/3部分。通过多次递归划分和局部排序，逐步使整个数组有序。\n",
    "类似经典算法：其结构与Stooge排序（一种低效的递归排序算法）高度相似，均通过重复处理重叠子数组来保证最终有序。\n",
    "通过递推公式可知道该算法的时间复杂度远超主流排序算法(它远远高于常见的高效排序如归并排序、快速排序、堆排序)。\n"
   ]
  },
  {
   "cell_type": "markdown",
   "metadata": {},
   "source": [
    "answer:"
   ]
  },
  {
   "cell_type": "code",
   "metadata": {
    "ExecuteTime": {
     "end_time": "2025-05-12T07:09:18.547113Z",
     "start_time": "2025-05-12T07:09:18.541864Z"
    }
   },
   "source": [
    "# add your code here\n",
    "def quicksort(arr, left, right):\n",
    "    if left < right:\n",
    "        pivot_index = partition(arr, left, right)\n",
    "        quicksort(arr, left, pivot_index - 1)\n",
    "        quicksort(arr, pivot_index + 1, right)\n",
    "\n",
    "def partition(arr, left, right):\n",
    "    pivot = arr[right]\n",
    "    i = left - 1\n",
    "    for j in range(left, right):\n",
    "        if arr[j] <= pivot:\n",
    "            i += 1\n",
    "            arr[i], arr[j] = arr[j], arr[i]\n",
    "    arr[i+1], arr[right] = arr[right], arr[i+1]\n",
    "    return i + 1\n",
    "\n",
    "# 示例测试\n",
    "if __name__ == \"__main__\":\n",
    "    A = [9, 1, 8, 2, 5, 7, 3]\n",
    "    quicksort(A, 0, len(A) - 1)\n",
    "    print(\"快速排序结果:\", A)\n",
    "\n",
    "\n",
    "# your algorithm time complexity is :O(nlogn)"
   ],
   "outputs": [
    {
     "name": "stdout",
     "output_type": "stream",
     "text": [
      "快速排序结果: [1, 2, 3, 5, 7, 8, 9]\n"
     ]
    }
   ],
   "execution_count": 3
  },
  {
   "cell_type": "markdown",
   "metadata": {},
   "source": [
    "## 问题 6：\n",
    "\n",
    "给定一个大小为 `n` 的数组 `nums` , 返回其中的多数元素。多数元素是指在数组中出现次数 **大于** `⌊ n/2 ⌋` 的元素。\n",
    "\n",
    "你可以假设数组是非空的, 并且给定的数组总是存在多数元素。\n",
    "\n",
    "1. 设计一个算法找到给定数组的多数元素, 分析算法设计思路, 计算算法时间复杂度, 使用python编程实现\n",
    "2. \\* 设计时间复杂度为 O(n)、空间复杂度为 O(1) 的算法解决此问题, 分析算法设计思路, 使用python编程实现\n",
    "\n",
    "e.g.:\n",
    "---\n",
    "1. nums=[3,2,3], 返回3\n",
    "2. nums=[2,2,1,1,1,2,2], 返回2\n"
   ]
  },
  {
   "cell_type": "markdown",
   "metadata": {},
   "source": [
    "idea："
   ]
  },
  {
   "cell_type": "code",
   "metadata": {
    "ExecuteTime": {
     "end_time": "2025-05-12T07:09:18.576566Z",
     "start_time": "2025-05-12T07:09:18.571935Z"
    }
   },
   "source": [
    "# add your code here从时间复杂度的角度看，哈希表方法能在 \n",
    "# 𝑂(𝑛) 时间内找到多数元素，已经非常高效；不过它需要 O(n) 的额外空间来存储每个元素的出现次数，因此空间复杂度并不是最优。\n",
    "# 如果考虑 时间与空间综合最优，有一个更经典的解法叫 Boyer-Moore 投票算法，它只需要 O(1) 的额外空间，而且时间复杂度同样是 O(n)\n",
    "def find_majority_element(nums):\n",
    "    candidate = None\n",
    "    count = 0\n",
    "    \n",
    "    # 找候选多数元素\n",
    "    for num in nums:\n",
    "        if count == 0:\n",
    "            candidate = num\n",
    "            count = 1\n",
    "        elif candidate == num:\n",
    "            count += 1\n",
    "        else:\n",
    "            count -= 1\n",
    "    \n",
    "    # 验证候选元素是否为多数元素\n",
    "    count = 0\n",
    "    for num in nums:\n",
    "        if num == candidate:\n",
    "            count += 1\n",
    "    \n",
    "    if count > len(nums) // 2:\n",
    "        return candidate\n",
    "    \n",
    "    return None\n",
    "\n",
    "# 测试示例\n",
    "print(find_majority_element([2, 2, 1, 1, 1, 2, 2]))  # 输出：2\n",
    "print(find_majority_element([3, 2, 3]))         # 输出：3\n",
    "\n"
   ],
   "outputs": [
    {
     "name": "stdout",
     "output_type": "stream",
     "text": [
      "2\n",
      "3\n"
     ]
    }
   ],
   "execution_count": 4
  },
  {
   "cell_type": "markdown",
   "metadata": {},
   "source": [
    "idea for 2\\*："
   ]
  },
  {
   "cell_type": "code",
   "metadata": {
    "ExecuteTime": {
     "end_time": "2025-05-12T07:09:18.580223Z",
     "start_time": "2025-05-12T07:09:18.577578Z"
    }
   },
   "source": [
    "# algorithm time complexity：O(n), space complexity:O(1)\n",
    "# add your code here"
   ],
   "outputs": [],
   "execution_count": 5
  },
  {
   "cell_type": "markdown",
   "metadata": {},
   "source": [
    "## 问题 7：\n",
    "\n",
    "给定一个包含不同整数元素的数组 $ A[1..n]$ ,并且满足条件：$A[1]>A[2]$ 并且 $A[n-1]<A[n]$; 规定：如果一个元素比它两边的邻居元素都小, 即：$A[x]<A[x-1], A[x]<A[x+1]$ , 称这个元素A[x]为“局部最小”。通过遍历一次数组, 我们可以很容易在 $O(n)$的时间复杂度下找到一个局部最小值, \n",
    "\n",
    "\n",
    "1. 分析该问题, 设计一个算法在$O(logn)$的时间复杂度下找到一个局部最小(返回数值), 要求：分析算法设计思路, 并且使用python编程实现\n",
    "2. \\* 设计算法找出所有局部最小值, 分析算法设计思路, 并使用python编程实现\n",
    "\n",
    "e.g.:\n",
    "---\n",
    "A=[9, 3, 7, 2, 1, 4, 5 ] 时,  局部最小元素为 3, 1\n"
   ]
  },
  {
   "cell_type": "markdown",
   "metadata": {},
   "source": [
    "idea："
   ]
  },
  {
   "cell_type": "code",
   "metadata": {
    "ExecuteTime": {
     "end_time": "2025-05-12T07:09:18.590006Z",
     "start_time": "2025-05-12T07:09:18.584506Z"
    }
   },
   "source": [
    "# add your code here\n",
    "def find_local_min(A):\n",
    "    left, right = 0, len(A) - 1\n",
    "    \n",
    "    while left <= right:\n",
    "        mid = (left + right) // 2\n",
    "        \n",
    "        # Check if mid is the first element\n",
    "        if mid == 0:\n",
    "            if A[mid] < A[mid + 1]:\n",
    "                return A[mid]\n",
    "            else:\n",
    "                left = mid + 1\n",
    "        # Check if mid is the last element\n",
    "        elif mid == len(A) - 1:\n",
    "            if A[mid] < A[mid - 1]:\n",
    "                return A[mid]\n",
    "            else:\n",
    "                right = mid - 1\n",
    "        else:\n",
    "            # Check if mid is a local minimum\n",
    "            if A[mid] < A[mid - 1] and A[mid] < A[mid + 1]:\n",
    "                return A[mid]\n",
    "            # Move to the left half if left neighbor is smaller\n",
    "            elif A[mid] > A[mid - 1]:\n",
    "                right = mid - 1\n",
    "            # Move to the right half if right neighbor is smaller\n",
    "            else:\n",
    "                left = mid + 1\n",
    "    \n",
    "    return A[left]\n",
    "\n",
    "# 测试示例\n",
    "A = [9, 3, 7, 2, 1, 4, 5]\n",
    "print(find_local_min(A))  # 输出: 1\n",
    "\n",
    "\n",
    "# your algorithm time complexity is :O(log n)\n",
    "#每次都将搜索范围缩小为原来的一半 ⇒ 对数级别复杂度\n",
    "#所以该算法时间复杂度为 O(log n)\n",
    "#这个问题适合用二分查找解决，因为根据给定条件，数组中一定存在至少一个局部最小值：\n"
   ],
   "outputs": [
    {
     "name": "stdout",
     "output_type": "stream",
     "text": [
      "1\n"
     ]
    }
   ],
   "execution_count": 6
  },
  {
   "cell_type": "markdown",
   "metadata": {},
   "source": [
    "idea:"
   ]
  },
  {
   "cell_type": "code",
   "metadata": {
    "ExecuteTime": {
     "end_time": "2025-05-12T07:09:18.596510Z",
     "start_time": "2025-05-12T07:09:18.593160Z"
    }
   },
   "source": [
    "# add your code here\n"
   ],
   "outputs": [],
   "execution_count": 7
  },
  {
   "cell_type": "markdown",
   "metadata": {},
   "source": [
    "## 问题 8：\n",
    "\n",
    "给定包含n个不同数字的一组数, 寻找一种基于比较的算法在这组数中找到k个最小的数字, 并按顺序输出它们。\n",
    "\n",
    "1. 将n个数先进行排序, 然后按顺序输出最小的k个数。要求：选择合适的排序算法实现上述操作, 计算算法时间复杂度, 并使用python编程实现。\n",
    "2. 建立一个包含这n个数的堆（heap）, 并且调用 k 次Extract-min 按顺序输出最小的k个数。使用往空堆中不断插入元素的方法建立堆, 分析这种方法建堆的时间复杂度, 并使用python编程实现\n",
    "3. \\* 假设数组中包含的数据总数目超过了计算机的存储能力, 请设计一个算法, 找到这堆数据的前k小的数值, 计算时间复杂度, 并使用python实现该算法, 假设计算机一定能存储k个数据。\n",
    "\n",
    "e.g.：\n",
    "---\n",
    "数组arr=[5,4,3,2,6,1,88,33,22,107] 的前3个最小数据为：1, 2, 3\n"
   ]
  },
  {
   "cell_type": "markdown",
   "metadata": {},
   "source": [
    "idea："
   ]
  },
  {
   "cell_type": "code",
   "metadata": {
    "ExecuteTime": {
     "end_time": "2025-05-12T07:09:18.633683Z",
     "start_time": "2025-05-12T07:09:18.630088Z"
    }
   },
   "source": [
    "# add your code here\n",
    "def find_k_smallest_by_sort(arr, k):\n",
    "    sorted_arr = sorted(arr)  # Timsort, 时间复杂度 O(n log n)\n",
    "    return sorted_arr[:k]\n",
    "\n",
    "# 示例\n",
    "arr = [5, 4, 3, 2, 6, 1, 88, 33, 22, 107]\n",
    "k = 3\n",
    "print(\"最小的前\", k, \"个数为：\", find_k_smallest_by_sort(arr, k))\n",
    "\n",
    "\n",
    "# your algorithm time complexity is :\tO(n log n)"
   ],
   "outputs": [
    {
     "name": "stdout",
     "output_type": "stream",
     "text": [
      "最小的前 3 个数为： [1, 2, 3]\n"
     ]
    }
   ],
   "execution_count": 8
  },
  {
   "cell_type": "code",
   "metadata": {
    "ExecuteTime": {
     "end_time": "2025-05-12T07:09:18.645283Z",
     "start_time": "2025-05-12T07:09:18.640905Z"
    }
   },
   "source": [
    "import heapq\n",
    "\n",
    "def extract_k_min_heap(arr, k):\n",
    "    # Step 1: 建立最小堆 O(n)\n",
    "    heapq.heapify(arr)\n",
    "    \n",
    "    # Step 2: 提取 k 次最小元素，每次 O(log n)\n",
    "    result = []\n",
    "    for _ in range(k):\n",
    "        result.append(heapq.heappop(arr))  # Extract-Min\n",
    "    \n",
    "    # Step 3: 按顺序输出，Python的 heappop 本身是升序弹出\n",
    "    return result\n",
    "\n",
    "# 示例测试\n",
    "arr = [5, 4, 3, 2, 6, 1, 88, 33, 22, 107]\n",
    "k = 3\n",
    "print(\"最小的前\", k, \"个数为：\", extract_k_min_heap(arr, k))\n",
    "\n",
    "# your algorithm time complexity is :\tO(n + k log n)"
   ],
   "outputs": [
    {
     "name": "stdout",
     "output_type": "stream",
     "text": [
      "最小的前 3 个数为： [1, 2, 3]\n"
     ]
    }
   ],
   "execution_count": 9
  },
  {
   "cell_type": "markdown",
   "metadata": {},
   "source": [
    "## 问题 9：\n",
    "\n",
    "**选择问题**:给定一个包含n个未排序值的数组A和一个$k≤n$的整数, 返回A中最小的第k项。\n",
    "\n",
    "在课堂上, 学了一个简单的O(n)随机算法来解决选择问题。事实上还有一种更复杂的最坏情况下时间复杂度为$O(n)$ 的选择算法。假设使用一个黑盒过程来实现这个O(n)选择算法: 给定一个数组A、 $p < r$ 和 k,  $BB(A, p, r, k)$ 可以在$O(r−p+ 1)$时间内找到并报告$A[p..r]$中第k小的项的下标。假设你可以在线性时间内处理Partition过程。\n",
    "\n",
    "1. 请分析如何修改 Quicksork 算法可以使其最差情况下的运行时间为 $O(nlogn)$, 使用伪代码实现, 并分析为何修改后的版本最差情况的运行时间为$O(nlogn)$\n",
    "\n",
    "note: 伪代码中, 你可以直接调用用` BB(A,p,r,k)`这个函数用于表示在最坏情况下时间复杂度为$O(n)$的选择算法；\n",
    "\n",
    "\n",
    "\n",
    "2. 找到一个更好的算法报告数组A中的前k小的项, 使用伪代码表示你的算法, 并分析你算法的时间复杂度。\n",
    "\n",
    "举例：A=[13, 3, 7, 9, 11, 1, 15, 2, 8, 10, 12, 16, 14, 5], 当k=4时, 应该报告1, 2, 3, 4\n",
    "\n",
    "note： 最直观的方法就是先将数组A排序, 然后从左向右报告其前k项, 这样操作的时间复杂度为$O(nlogn)$. 调用用` BB(A,p,r,k)`设计一个算法使其报告无序数组A的前k项, 满足时间复杂度好于$\\Theta(nlogn)$, 并且当$k=\\sqrt{n}$时, 你设计的算法时间复杂度应该为$\\Theta(n)$.\n",
    "\n",
    "\n",
    "\n",
    "3. 给定一个大小为n的数组, 找到一个 时间复杂度为$O(n log k)$ 的算法, 该算法将A中的元素重新排序, 使它们被划分为k个部分, 每个部分的元素小于或等于下一部分的元素。假设n和k都是2的幂。使用伪代码表示你的算法, 并分析时间复杂度。\n",
    "\n",
    "e.g.:\n",
    "---\n",
    "数组：[1,  3,  5,  7,  9,  11,  13,  15,  2,  4,  6,  8,  10,  12,  16,  14], k=4, \n",
    "\n",
    "对应重新排序的数组为：[1,  3,  2,  4]  [7,  6,  5,  8]  [12,  11,  10,  9]  [13,  14,  16,  15]\n",
    "\n",
    "\n"
   ]
  },
  {
   "cell_type": "markdown",
   "metadata": {},
   "source": [
    "idea："
   ]
  },
  {
   "cell_type": "code",
   "metadata": {
    "ExecuteTime": {
     "end_time": "2025-05-12T07:09:18.650080Z",
     "start_time": "2025-05-12T07:09:18.645283Z"
    }
   },
   "source": [
    "# add your pseudo-code here\n",
    "def improved_quicksort(A, p, r):\n",
    "    if p < r:\n",
    "        # 选择一个“好”pivot，使得划分更平衡，最坏情况也在O(n)\n",
    "        mid = (r - p + 1) // 2\n",
    "        pivot_index = BB(A, p, r, mid)  # 使用最坏时间O(n)的选择算法选pivot\n",
    "        A[pivot_index], A[r] = A[r], A[pivot_index]  # 把pivot移到末尾\n",
    "        q = partition(A, p, r)  # 经典QuickSort的划分过程\n",
    "        improved_quicksort(A, p, q - 1)\n",
    "        improved_quicksort(A, q + 1, r)\n",
    "#每次划分使用 BB 函数选 pivot，耗时 O(n)\n",
    "#每次划分至少能把数组分成 1/4 和 3/4（因为 BB 保证不极端），递归深度是 O(log n)\n",
    "#每层划分最多处理 n 个元素\n",
    "#所以总的最坏时间复杂度是：O(nlogn)"
   ],
   "outputs": [],
   "execution_count": 10
  },
  {
   "cell_type": "code",
   "metadata": {
    "ExecuteTime": {
     "end_time": "2025-05-12T07:09:18.656403Z",
     "start_time": "2025-05-12T07:09:18.651244Z"
    }
   },
   "source": [
    "def find_k_smallest(A, k):\n",
    "    def select(A, p, r, k):\n",
    "        # BB 函数假设能在线性时间内找到第 k 小的数的下标\n",
    "        return BB(A, p, r, k)\n",
    "\n",
    "    def partition(A, p, r, pivot_index):\n",
    "        A[pivot_index], A[r] = A[r], A[pivot_index]\n",
    "        pivot = A[r]\n",
    "        i = p\n",
    "        for j in range(p, r):\n",
    "            if A[j] < pivot:\n",
    "                A[i], A[j] = A[j], A[i]\n",
    "                i += 1\n",
    "        A[i], A[r] = A[r], A[i]\n",
    "        return i\n",
    "\n",
    "    p, r = 0, len(A) - 1\n",
    "    # 找到第 k 小的元素的值，作用是分割 pivot\n",
    "    pivot_index = select(A, p, r, k)\n",
    "    # Partition，使得前 k 项在 pivot 左边\n",
    "    pivot_final_index = partition(A, p, r, pivot_index)\n",
    "    # 返回前 k 小的元素（不排序）\n",
    "    return A[:k]\n",
    "# 调用一次 BB：O(n)\n",
    "# 一次 partition：O(n)\n",
    "# 只递归到一个子区间：O(n) （不是完全排序）\n",
    "# 所以总时间复杂度是：O(n)\n"
   ],
   "outputs": [],
   "execution_count": 11
  },
  {
   "cell_type": "code",
   "metadata": {
    "ExecuteTime": {
     "end_time": "2025-05-12T07:09:18.692602Z",
     "start_time": "2025-05-12T07:09:18.688963Z"
    }
   },
   "source": [
    "def partition_sort(A, k):\n",
    "    n = len(A)\n",
    "    size = n // k\n",
    "\n",
    "    # Step 1: 将A划分成k块\n",
    "    chunks = [A[i*size:(i+1)*size] for i in range(k)]\n",
    "\n",
    "    # Step 2: 对每个chunk排序，O(n log(n/k)) = O(n log(n/k))\n",
    "    for chunk in chunks:\n",
    "        chunk.sort()\n",
    "\n",
    "    # Step 3: 使用最小堆合并k块：只合并边界元素，保证 max(chunk[i]) <= min(chunk[i+1])\n",
    "    # 可以跳过真正的合并，直接拼接已排序好的chunk\n",
    "\n",
    "    # Step 4: 将k个小块拼接回A（保持块之间顺序）\n",
    "    A[:] = sum(chunks, [])  # 展平列表s\n",
    "#Step 1（划分）：O(n)\n",
    "#Step 2（每块排序）：k 个长度 n/k 的子数组排序 → 每个排序 O((n/k) log(n/k))→ 总共：k × (n/k) log(n/k) = n log(n/k)\n",
    "#Step 3（不需要复杂堆操作，仅合并）：O(n)，忽略不计\n",
    "\n",
    "#总体复杂度：𝑂(𝑛log(𝑛/𝑘))=𝑂(𝑛log𝑘)\n",
    "\n",
    " "
   ],
   "outputs": [],
   "execution_count": 12
  },
  {
   "cell_type": "markdown",
   "metadata": {},
   "source": [
    "## 问题 10：\n",
    "\n",
    "给定一个包含m个**字符串**的数组A, 其中不同的字符串可能有不同的字符数, 但数组中所有字符串的字符总数为n。设计一个算法在 $O(n)$ 时间内对字符串进行排序, 分析算法设计方案, 计算其时间复杂度, 并基于python编程实现该算法。请注意, 假设字符串只包含\"a\",\"b\",...,\"z\", \n",
    "\n",
    "\n",
    "\n",
    "举例1：数组A=[\"a\", \"da\", \"bde\", \"ab\", \"bc\", \"abdc\", \"cdba\"], 排序后的数组应该为：['a', 'ab', 'abdc', 'bc', 'bde', 'cdba', 'da']\n",
    "\n",
    "\n",
    "\n",
    "举例2：数组A=['ab', 'a', 'b', 'abc', 'ba', 'c'], 排序后的数组应该为：\n",
    "\n",
    "['a', 'ab', 'abc', 'b', 'ba', 'c']\n",
    "\n",
    "\n",
    "\n",
    "举例3：数组A=['aef', 'yzr', 'wr', 'ab', 'bhjc', 'lkabdc', 'pwcdba'],  排序后的数组应该为：['ab', 'aef', 'bhjc', 'lkabdc', 'pwcdba', 'wr', 'yzr']\n",
    "\n",
    "\n",
    "\n",
    "note：\n",
    "\n",
    "-  两个字符之间的比较可以考虑比较他们对应的ASCII码值；\n",
    "- python中可以使用`ord(\"a\")`返回字符 “a”对应的ASCII值"
   ]
  },
  {
   "cell_type": "markdown",
   "metadata": {},
   "source": [
    "idea:"
   ]
  },
  {
   "cell_type": "code",
   "metadata": {
    "ExecuteTime": {
     "end_time": "2025-05-12T07:09:18.707787Z",
     "start_time": "2025-05-12T07:09:18.704196Z"
    }
   },
   "source": [
    "# add your code here\n",
    "def radix_sort_strings(A):\n",
    "    from collections import defaultdict\n",
    "\n",
    "    max_len = max(len(s) for s in A)  # 找到最长字符串的长度\n",
    "\n",
    "    # 从末尾开始按每一位进行计数排序\n",
    "    for pos in range(max_len - 1, -1, -1):\n",
    "        # 创建27个桶（26个字母 + 空字符）\n",
    "        buckets = [[] for _ in range(27)]\n",
    "\n",
    "        for s in A:\n",
    "            # 如果当前位置超出字符串长度，则放在空桶中\n",
    "            if pos < len(s):\n",
    "                index = ord(s[pos]) - ord('a') + 1  # 'a'为1，避免0和空桶冲突\n",
    "            else:\n",
    "                index = 0  # 空桶\n",
    "\n",
    "            buckets[index].append(s)\n",
    "\n",
    "        # 收集排序结果\n",
    "        A = [s for bucket in buckets for s in bucket]\n",
    "\n",
    "    return A\n",
    "\n",
    "# your algorithm time complexity is :O(n)"
   ],
   "outputs": [],
   "execution_count": 13
  }
 ],
 "metadata": {
  "kernelspec": {
   "display_name": "python312",
   "language": "python",
   "name": "python3"
  },
  "language_info": {
   "codemirror_mode": {
    "name": "ipython",
    "version": 3
   },
   "file_extension": ".py",
   "mimetype": "text/x-python",
   "name": "python",
   "nbconvert_exporter": "python",
   "pygments_lexer": "ipython3",
   "version": "3.12.9"
  }
 },
 "nbformat": 4,
 "nbformat_minor": 2
}
